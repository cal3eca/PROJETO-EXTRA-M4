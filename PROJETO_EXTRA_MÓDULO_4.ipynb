{
  "nbformat": 4,
  "nbformat_minor": 0,
  "metadata": {
    "colab": {
      "provenance": [],
      "authorship_tag": "ABX9TyNH6oIU1qMjAgiFmNgSH99S",
      "include_colab_link": true
    },
    "kernelspec": {
      "name": "python3",
      "display_name": "Python 3"
    },
    "language_info": {
      "name": "python"
    }
  },
  "cells": [
    {
      "cell_type": "markdown",
      "metadata": {
        "id": "view-in-github",
        "colab_type": "text"
      },
      "source": [
        "<a href=\"https://colab.research.google.com/github/cal3eca/PROJETO-EXTRA-M4/blob/main/PROJETO_EXTRA_M%C3%93DULO_4.ipynb\" target=\"_parent\"><img src=\"https://colab.research.google.com/assets/colab-badge.svg\" alt=\"Open In Colab\"/></a>"
      ]
    },
    {
      "cell_type": "code",
      "execution_count": 56,
      "metadata": {
        "colab": {
          "base_uri": "https://localhost:8080/"
        },
        "id": "G6ZuJYO-bZDk",
        "outputId": "4244efae-fb82-48e1-8dc3-26adaf3baa74"
      },
      "outputs": [
        {
          "output_type": "stream",
          "name": "stdout",
          "text": [
            "                Estado Civil Escolaridade  Filhos  Salário  Idade   Região\n",
            "Funcionário 1       Solteiro        Médio       0     2100     32      Sul\n",
            "Funcionário 2         Casado     Superior       2     3500     27      Sul\n",
            "Funcionário 3         Casado     Superior       1     4300     41  Sudeste\n",
            "Funcionário 4       Solteiro        Médio       0     1800     35  Sudeste\n",
            "Funcionário 5     Divorciado        Médio       1     2400     28      Sul\n",
            "Funcionário 6       Solteiro        Médio       0     1900     29  Sudeste\n",
            "Funcionário 7         Casado     Superior       2     4000     33      Sul\n",
            "Funcionário 8       Solteiro        Médio       0     1700     30  Sudeste\n",
            "Funcionário 9         Casado        Médio       2     3200     38      Sul\n",
            "Funcionário 10      Solteiro     Superior       0     3600     31  Sudeste\n"
          ]
        }
      ],
      "source": [
        "import pandas as pd\n",
        "import numpy as np\n",
        "\n",
        "# Criando o DataFrame com dados aleatórios para 10 funcionários da seção de orçamentos da Milsa\n",
        "dados = {\n",
        "    'Estado Civil': ['Solteiro', 'Casado', 'Casado', 'Solteiro', 'Divorciado', 'Solteiro', 'Casado', 'Solteiro', 'Casado', 'Solteiro'],\n",
        "    'Escolaridade': ['Médio', 'Superior', 'Superior', 'Médio', 'Médio', 'Médio', 'Superior', 'Médio', 'Médio', 'Superior'],\n",
        "    'Filhos': [0, 2, 1, 0, 1, 0, 2, 0, 2, 0],\n",
        "    'Salário': [2100, 3500, 4300, 1800, 2400, 1900, 4000, 1700, 3200, 3600],\n",
        "    'Idade': [32, 27, 41, 35, 28, 29, 33, 30, 38, 31],\n",
        "    'Região': ['Sul', 'Sul', 'Sudeste', 'Sudeste', 'Sul', 'Sudeste', 'Sul', 'Sudeste', 'Sul', 'Sudeste']\n",
        "}\n",
        "\n",
        "df = pd.DataFrame(dados, index=[f'Funcionário {i+1} ' for i in range(10)])\n",
        "\n",
        "print(df)\n"
      ]
    },
    {
      "cell_type": "code",
      "source": [
        "#Qual a média de idade dos funcionários?\n",
        "print(df ['Idade (Anos)'].mean())"
      ],
      "metadata": {
        "colab": {
          "base_uri": "https://localhost:8080/"
        },
        "id": "USbgu9hufC9h",
        "outputId": "75752c80-d7f4-4ab2-bd08-615a10991e6d"
      },
      "execution_count": 21,
      "outputs": [
        {
          "output_type": "stream",
          "name": "stdout",
          "text": [
            "32.4\n"
          ]
        }
      ]
    },
    {
      "cell_type": "code",
      "source": [
        "#Dos funcionários, com filhos, qual o número mais comum?\n",
        "func_filhos = df[df ['Filhos'] > 0]\n",
        "contagem_filhos = func_filhos['Filhos'].value_counts()\n",
        "numero_comum = contagem_filhos.idxmax()\n",
        "print(int(numero_comum))\n",
        "\n"
      ],
      "metadata": {
        "colab": {
          "base_uri": "https://localhost:8080/"
        },
        "id": "kVeMJ7H9fiQJ",
        "outputId": "86a94242-550a-42c1-fdd9-59d4db643d32"
      },
      "execution_count": 41,
      "outputs": [
        {
          "output_type": "stream",
          "name": "stdout",
          "text": [
            "2\n"
          ]
        }
      ]
    },
    {
      "cell_type": "code",
      "source": [
        "#Qual a média e a mediana dos salários dos funcionários? O que esses valores\n",
        "#podem indicar?\n",
        "print (df ['Salário'].mean())\n",
        "print (df ['Salário'].median())"
      ],
      "metadata": {
        "colab": {
          "base_uri": "https://localhost:8080/"
        },
        "id": "MIpsFwPllGfB",
        "outputId": "b220cee6-b3ab-4ec9-a365-88db605b3214"
      },
      "execution_count": 42,
      "outputs": [
        {
          "output_type": "stream",
          "name": "stdout",
          "text": [
            "2850.0\n",
            "2800.0\n"
          ]
        }
      ]
    },
    {
      "cell_type": "code",
      "source": [
        "#Quais são os tipos de instrução existentes? \n",
        "print(df ['Escolaridade'].unique())"
      ],
      "metadata": {
        "colab": {
          "base_uri": "https://localhost:8080/"
        },
        "id": "WOPdWcM4ndkY",
        "outputId": "ba68fabc-52b2-4ecf-b1ec-706d000ad427"
      },
      "execution_count": 49,
      "outputs": [
        {
          "output_type": "stream",
          "name": "stdout",
          "text": [
            "['Médio' 'Superior']\n"
          ]
        }
      ]
    },
    {
      "cell_type": "code",
      "source": [
        "# Qual a média de salário e idade das pessoas casadas?\n",
        "casados = df ['Estado Civil'] == 'Casado'\n",
        "\n",
        "salario_casado = df.loc [casados, 'Salário'].mean()\n",
        "media_idade_casado = df.loc[casados, 'Idade'].mean()\n",
        "print('A média salarial das pessoas casadas é de : ',salario_casado, 'R$')\n",
        "print('A média de idade das pessoas casadas é de : ',media_idade_casado, 'Anos')\n"
      ],
      "metadata": {
        "colab": {
          "base_uri": "https://localhost:8080/"
        },
        "id": "IMIyrHnsog3I",
        "outputId": "64b6b809-3148-409f-8ccb-b19b00033b47"
      },
      "execution_count": 62,
      "outputs": [
        {
          "output_type": "stream",
          "name": "stdout",
          "text": [
            "A média salarial das pessoas casadas é de :  3750.0 R$\n",
            "A média de idade das pessoas casadas é de :  34.75 Anos\n"
          ]
        }
      ]
    },
    {
      "cell_type": "code",
      "source": [
        "#Qual o funcionário que possui maior salário (informe seus atributos)?\n",
        "\n",
        "maiorsalario = df ['Salário'].idxmax()\n",
        "func_maior_salario = df.loc[maiorsalario]\n",
        "print('O funcionário com o maior salário é: \\n',func_maior_salario)"
      ],
      "metadata": {
        "colab": {
          "base_uri": "https://localhost:8080/"
        },
        "id": "IcJQB9FUqdww",
        "outputId": "0ccacff8-65d1-4c3f-f5be-b94e758c9b87"
      },
      "execution_count": 82,
      "outputs": [
        {
          "output_type": "stream",
          "name": "stdout",
          "text": [
            "O funcionário com o maior salário é: \n",
            " Estado Civil      Casado\n",
            "Escolaridade    Superior\n",
            "Filhos                 1\n",
            "Salário             4300\n",
            "Idade                 41\n",
            "Região           Sudeste\n",
            "Name: Funcionário 3 , dtype: object\n"
          ]
        }
      ]
    },
    {
      "cell_type": "code",
      "source": [
        "#Qual o funcionário que possui menor idade (informe seus atributos)?\n",
        "menoridade = df ['Idade'].idxmin()\n",
        "func_menor_idade = df.loc[menoridade]\n",
        "print('O funcionário com a menor idade é:\\n',func_menor_idade)\n"
      ],
      "metadata": {
        "colab": {
          "base_uri": "https://localhost:8080/"
        },
        "id": "6nW_-1JYrO8P",
        "outputId": "41a0e1e8-a27a-434c-897e-b23b0a023a58"
      },
      "execution_count": 81,
      "outputs": [
        {
          "output_type": "stream",
          "name": "stdout",
          "text": [
            "O funcionário com a menor idade é:\n",
            " Estado Civil      Casado\n",
            "Escolaridade    Superior\n",
            "Filhos                 2\n",
            "Salário             3500\n",
            "Idade                 27\n",
            "Região               Sul\n",
            "Name: Funcionário 2 , dtype: object\n"
          ]
        }
      ]
    },
    {
      "cell_type": "code",
      "source": [
        "#Quem são os funcionários que possuem no máximo 35 anos, são da capital e tem\n",
        "#instrução de 2o grau?\n",
        "\n",
        "cond_idade = df['Idade'] <= 35\n",
        "cond_regiao = df['Região'] == 'Sudeste'\n",
        "cond_escolaridade = df['Escolaridade'] == 'Médio'\n",
        "\n",
        "selecao = df [cond_idade & cond_regiao & cond_escolaridade]\n",
        "print('Funcionários selecionados:')\n",
        "print(selecao)"
      ],
      "metadata": {
        "colab": {
          "base_uri": "https://localhost:8080/"
        },
        "id": "m2Cw4MottzpP",
        "outputId": "36c9b965-ae8b-40e1-a74f-d77e31f9e2c2"
      },
      "execution_count": 85,
      "outputs": [
        {
          "output_type": "stream",
          "name": "stdout",
          "text": [
            "Funcionários selecionados:\n",
            "               Estado Civil Escolaridade  Filhos  Salário  Idade   Região\n",
            "Funcionário 4      Solteiro        Médio       0     1800     35  Sudeste\n",
            "Funcionário 6      Solteiro        Médio       0     1900     29  Sudeste\n",
            "Funcionário 8      Solteiro        Médio       0     1700     30  Sudeste\n"
          ]
        }
      ]
    },
    {
      "cell_type": "code",
      "source": [
        "mapeamento_estado_civil = {'Solteiro': 1, 'Casado': 2, 'Divorciado': 3}\n",
        "mapeamento_escolaridade = {'Médio': 1, 'Superior': 2}\n",
        "\n",
        "df.replace({'Estado Civil': mapeamento_estado_civil, 'Escolaridade': mapeamento_escolaridade}, inplace=True)\n",
        "\n",
        "correlacao = df.corr()\n",
        "\n",
        "print(correlacao)"
      ],
      "metadata": {
        "colab": {
          "base_uri": "https://localhost:8080/"
        },
        "id": "82kZpDd2u-QQ",
        "outputId": "c0dfc830-007f-4174-d02a-da57a0b37747"
      },
      "execution_count": 86,
      "outputs": [
        {
          "output_type": "stream",
          "name": "stdout",
          "text": [
            "              Estado Civil  Escolaridade    Filhos   Salário     Idade\n",
            "Estado Civil      1.000000      0.184637  0.726300  0.438286  0.021296\n",
            "Escolaridade      0.184637      1.000000  0.421464  0.879174  0.115342\n",
            "Filhos            0.726300      0.421464  1.000000  0.654620  0.156640\n",
            "Salário           0.438286      0.879174  0.654620  1.000000  0.408158\n",
            "Idade             0.021296      0.115342  0.156640  0.408158  1.000000\n"
          ]
        },
        {
          "output_type": "stream",
          "name": "stderr",
          "text": [
            "<ipython-input-86-8a61ccafc3a8>:6: FutureWarning: The default value of numeric_only in DataFrame.corr is deprecated. In a future version, it will default to False. Select only valid columns or specify the value of numeric_only to silence this warning.\n",
            "  correlacao = df.corr()\n"
          ]
        }
      ]
    }
  ]
}